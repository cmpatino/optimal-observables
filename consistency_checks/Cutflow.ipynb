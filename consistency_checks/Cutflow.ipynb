{
 "cells": [
  {
   "cell_type": "code",
   "execution_count": 1,
   "metadata": {},
   "outputs": [],
   "source": [
    "import uproot\n",
    "import numpy as np\n",
    "\n",
    "from awkward.array.jagged import JaggedArray"
   ]
  },
  {
   "cell_type": "code",
   "execution_count": 2,
   "metadata": {},
   "outputs": [],
   "source": [
    "events_path = \"../mg5_data/SM-process_spin-ON_100k/Events/run_01_decayed_1/tag_1_delphes_events.root\"\n",
    "events = uproot.open(events_path)[\"Delphes\"]"
   ]
  },
  {
   "cell_type": "markdown",
   "metadata": {},
   "source": [
    "## Jet Cuts"
   ]
  },
  {
   "cell_type": "code",
   "execution_count": 3,
   "metadata": {},
   "outputs": [],
   "source": [
    "def select_jet(events) -> JaggedArray:\n",
    "    \"\"\"Create boolean mask to apply jet selection criteria from ATLAS\n",
    "\n",
    "    :param events: Delphes event TTree containing\n",
    "    :type events: TTree\n",
    "    :return: boolean mask to select jets in events\n",
    "    :rtype: JaggedArray\n",
    "    \"\"\"\n",
    "    jet_pt = events[\"Jet.PT\"].array()\n",
    "    jet_phi = events[\"Jet.Phi\"].array()\n",
    "    jet_eta = events[\"Jet.Eta\"].array()\n",
    "    electron_phi = events[\"Electron.Phi\"].array()\n",
    "    electron_eta = events[\"Electron.Eta\"].array()\n",
    "    muon_phi = events[\"Muon.Phi\"].array()\n",
    "    muon_eta = events[\"Muon.Eta\"].array()\n",
    "\n",
    "    pt_mask = jet_pt > 25\n",
    "    eta_mask = np.abs(jet_eta) < 2.5\n",
    "    electron_dR_mask = []\n",
    "    muon_dR_mask = []\n",
    "    for event_idx in range(len(events)):\n",
    "        jet_phi_idx = jet_phi[event_idx]\n",
    "        jet_eta_idx = jet_eta[event_idx]\n",
    "        electron_dR_event_mask = np.ones_like(jet_phi_idx, dtype=int)\n",
    "        muon_dR_event_mask = np.ones_like(jet_phi_idx, dtype=int)\n",
    "        for elec_idx in range(len(electron_phi[event_idx])):\n",
    "            dPhi = jet_phi_idx - electron_phi[event_idx][elec_idx]\n",
    "            dEta = jet_eta_idx - electron_eta[event_idx][elec_idx]\n",
    "            dR = np.sqrt(dPhi**2 + dEta**2)\n",
    "            electron_dR_event_mask *= (dR > 0.2)\n",
    "        for muon_idx in range(len(muon_phi[event_idx])):\n",
    "            dPhi = jet_phi_idx - muon_phi[event_idx][muon_idx]\n",
    "            dEta = jet_eta_idx - muon_eta[event_idx][muon_idx]\n",
    "            dR = np.sqrt(dPhi**2 + dEta**2)\n",
    "            muon_dR_event_mask *= (dR > 0.4)\n",
    "        electron_dR_mask.append(electron_dR_event_mask.astype(bool))\n",
    "        muon_dR_mask.append(muon_dR_event_mask.astype(bool))\n",
    "    electron_dR_mask = JaggedArray.fromiter(electron_dR_mask)\n",
    "    muon_dR_mask = JaggedArray.fromiter(muon_dR_mask)\n",
    "    return pt_mask, eta_mask, electron_dR_mask, muon_dR_mask"
   ]
  },
  {
   "cell_type": "code",
   "execution_count": 4,
   "metadata": {},
   "outputs": [],
   "source": [
    "jet_pt_mask, jet_eta_mask, jet_electron_dR_mask, jet_muon_dR_mask = select_jet(events)\n",
    "\n",
    "full_jets_mask = jet_pt_mask * jet_eta_mask * jet_electron_dR_mask * jet_muon_dR_mask\n",
    "bjets_mask = events[\"Jet.BTag\"].array()[full_jets_mask].astype(bool)"
   ]
  },
  {
   "cell_type": "markdown",
   "metadata": {},
   "source": [
    "## Electron"
   ]
  },
  {
   "cell_type": "code",
   "execution_count": 5,
   "metadata": {},
   "outputs": [],
   "source": [
    "def select_electron(events) -> JaggedArray:\n",
    "    \"\"\"Create boolean mask to apply electron selection criteria from ATLAS\n",
    "\n",
    "    :param events: Delphes event TTree containing\n",
    "    :type events: TTree\n",
    "    :return: boolean mask to select electrons in events\n",
    "    :rtype: JaggedArray\n",
    "    \"\"\"\n",
    "    jet_phi = events[\"Jet.Phi\"].array()\n",
    "    jet_eta = events[\"Jet.Eta\"].array()\n",
    "    jet_mass = events[\"Jet.Mass\"].array()\n",
    "    jet_pt = events[\"Jet.PT\"].array()\n",
    "    electron_pt = events[\"Electron.PT\"].array()\n",
    "    electron_phi = events[\"Electron.Phi\"].array()\n",
    "    electron_eta = events[\"Electron.Eta\"].array()\n",
    "\n",
    "    pt_mask = electron_pt > 25\n",
    "    eta_mask1 = (np.abs(electron_eta) < 2.5) * (np.abs(electron_eta) > 1.52)\n",
    "    eta_mask2 = np.abs(electron_eta) < 1.37\n",
    "    eta_mask = eta_mask1 + eta_mask2\n",
    "    jet_dR_mask = []\n",
    "    for event_idx in range(len(events)):\n",
    "        electron_phi_idx = electron_phi[event_idx]\n",
    "        electron_eta_idx = electron_eta[event_idx]\n",
    "        jet_dR_event_mask = np.ones_like(electron_phi_idx, dtype=int)\n",
    "        for jet_idx in range(len(jet_phi[event_idx])):\n",
    "            jet_eta_idx = jet_eta[event_idx][jet_idx]\n",
    "            jet_mass_idx = jet_mass[event_idx][jet_idx]\n",
    "            jet_pt_idx = jet_pt[event_idx][jet_idx]\n",
    "            jet_rapidity = jet_eta_idx - (np.tanh(jet_eta_idx)/2)*(jet_mass_idx/jet_pt_idx)**2\n",
    "            dPhi = electron_phi_idx - jet_phi[event_idx][jet_idx]\n",
    "            dEta = electron_eta_idx - jet_rapidity\n",
    "            dR = np.sqrt(dPhi**2 + dEta**2)\n",
    "            jet_dR_event_mask *= (dR > 0.4)\n",
    "        jet_dR_mask.append(jet_dR_event_mask.astype(bool))\n",
    "    jet_dR_mask = JaggedArray.fromiter(jet_dR_mask)\n",
    "    return pt_mask, eta_mask, jet_dR_mask"
   ]
  },
  {
   "cell_type": "code",
   "execution_count": 6,
   "metadata": {},
   "outputs": [],
   "source": [
    "electron_pt_mask, electron_eta_mask, electron_jet_dR_mask = select_electron(events)\n",
    "full_electron_mask = electron_pt_mask * electron_eta_mask * electron_jet_dR_mask"
   ]
  },
  {
   "cell_type": "markdown",
   "metadata": {},
   "source": [
    "## Muon"
   ]
  },
  {
   "cell_type": "code",
   "execution_count": 7,
   "metadata": {},
   "outputs": [],
   "source": [
    "def select_muon(events) -> JaggedArray:\n",
    "    \"\"\"Create boolean mask to apply muon selection criteria from ATLAS\n",
    "\n",
    "    :param events: Delphes event TTree containing\n",
    "    :type events: TTree\n",
    "    :return: boolean mask to select muon in events\n",
    "    :rtype: JaggedArray\n",
    "    \"\"\"\n",
    "    jet_phi = events[\"Jet.Phi\"].array()\n",
    "    jet_eta = events[\"Jet.Eta\"].array()\n",
    "    muon_pt = events[\"Muon.PT\"].array()\n",
    "    muon_phi = events[\"Muon.Phi\"].array()\n",
    "    muon_eta = events[\"Muon.Eta\"].array()\n",
    "\n",
    "    pt_mask = muon_pt > 25\n",
    "    eta_mask = np.abs(muon_eta) < 2.5\n",
    "    jet_dR_mask = []\n",
    "    for event_idx in range(len(events)):\n",
    "        muon_phi_idx = muon_phi[event_idx]\n",
    "        muon_eta_idx = muon_eta[event_idx]\n",
    "        jet_dR_event_mask = np.ones_like(muon_phi_idx, dtype=int)\n",
    "        for jet_idx in range(len(jet_phi[event_idx])):\n",
    "            dPhi = muon_phi_idx - jet_phi[event_idx][jet_idx]\n",
    "            dEta = muon_eta_idx - jet_eta[event_idx][jet_idx]\n",
    "            dR = np.sqrt(dPhi**2 + dEta**2)\n",
    "            jet_dR_event_mask *= (dR > 0.4)\n",
    "        jet_dR_mask.append(jet_dR_event_mask.astype(bool))\n",
    "    jet_dR_mask = JaggedArray.fromiter(jet_dR_mask)\n",
    "    return pt_mask, eta_mask, jet_dR_mask"
   ]
  },
  {
   "cell_type": "code",
   "execution_count": 8,
   "metadata": {},
   "outputs": [],
   "source": [
    "muon_pt_mask, muon_eta_mask, muon_jet_dR_mask = select_muon(events)\n",
    "full_muon_mask = muon_pt_mask * muon_eta_mask * muon_jet_dR_mask"
   ]
  },
  {
   "cell_type": "markdown",
   "metadata": {},
   "source": [
    "## Cutflow"
   ]
  },
  {
   "cell_type": "markdown",
   "metadata": {},
   "source": [
    "### Single-Particle Cuts"
   ]
  },
  {
   "cell_type": "code",
   "execution_count": 9,
   "metadata": {},
   "outputs": [
    {
     "name": "stdout",
     "output_type": "stream",
     "text": [
      "Events after electron cuts: 37,382\n"
     ]
    }
   ],
   "source": [
    "selected_events = 0\n",
    "for event in full_electron_mask:\n",
    "    if 1 <= np.sum(event) <= 2:\n",
    "        selected_events += 1\n",
    "print(f\"Events after electron cuts: {selected_events:,}\")"
   ]
  },
  {
   "cell_type": "code",
   "execution_count": 10,
   "metadata": {},
   "outputs": [
    {
     "name": "stdout",
     "output_type": "stream",
     "text": [
      "Events after muon cuts: 49,490\n"
     ]
    }
   ],
   "source": [
    "selected_events = 0\n",
    "for event in full_muon_mask:\n",
    "    if 1 <= np.sum(event) <= 2:\n",
    "        selected_events += 1\n",
    "print(f\"Events after muon cuts: {selected_events:,}\")"
   ]
  },
  {
   "cell_type": "code",
   "execution_count": 11,
   "metadata": {},
   "outputs": [
    {
     "name": "stdout",
     "output_type": "stream",
     "text": [
      "Events after b-jet cuts: 31,950\n"
     ]
    }
   ],
   "source": [
    "selected_events = 0\n",
    "for event in bjets_mask:\n",
    "    if np.sum(event) >= 2:\n",
    "        selected_events += 1\n",
    "print(f\"Events after b-jet cuts: {selected_events:,}\")"
   ]
  },
  {
   "cell_type": "markdown",
   "metadata": {},
   "source": [
    "### Two-Particle Cuts"
   ]
  },
  {
   "cell_type": "code",
   "execution_count": 12,
   "metadata": {},
   "outputs": [
    {
     "name": "stdout",
     "output_type": "stream",
     "text": [
      "Events after electron and muon cuts: 24,896\n"
     ]
    }
   ],
   "source": [
    "selected_events = 0\n",
    "for e_event, mu_event in zip(full_electron_mask, full_muon_mask):\n",
    "    if np.sum(e_event) + np.sum(mu_event) == 2:\n",
    "        selected_events += 1\n",
    "print(f\"Events after electron and muon cuts: {selected_events:,}\")"
   ]
  },
  {
   "cell_type": "code",
   "execution_count": 13,
   "metadata": {},
   "outputs": [
    {
     "name": "stdout",
     "output_type": "stream",
     "text": [
      "Events after electron and b-jet cuts: 11,707\n"
     ]
    }
   ],
   "source": [
    "selected_events = 0\n",
    "for e_event, b_event in zip(full_electron_mask, bjets_mask):\n",
    "    if (1 <= np.sum(e_event) <= 2) and (np.sum(b_event) >= 2):\n",
    "        selected_events += 1\n",
    "print(f\"Events after electron and b-jet cuts: {selected_events:,}\")"
   ]
  },
  {
   "cell_type": "code",
   "execution_count": 14,
   "metadata": {},
   "outputs": [
    {
     "name": "stdout",
     "output_type": "stream",
     "text": [
      "Events after muon and b-jet cuts: 15,587\n"
     ]
    }
   ],
   "source": [
    "selected_events = 0\n",
    "for mu_event, b_event in zip(full_muon_mask, bjets_mask):\n",
    "    if (1 <= np.sum(mu_event) <= 2) and (np.sum(b_event) >= 2):\n",
    "        selected_events += 1\n",
    "print(f\"Events after muon and b-jet cuts: {selected_events:,}\")"
   ]
  },
  {
   "cell_type": "markdown",
   "metadata": {},
   "source": [
    "### Full Cuts"
   ]
  },
  {
   "cell_type": "code",
   "execution_count": 15,
   "metadata": {},
   "outputs": [
    {
     "name": "stdout",
     "output_type": "stream",
     "text": [
      "Events after full cuts: 7,663\n"
     ]
    }
   ],
   "source": [
    "selected_events = 0\n",
    "for e_event, mu_event, b_event in zip(full_electron_mask, full_muon_mask, bjets_mask):\n",
    "    if (np.sum(e_event) + np.sum(mu_event) == 2) and (np.sum(b_event) >= 2):\n",
    "        selected_events += 1\n",
    "print(f\"Events after full cuts: {selected_events:,}\")"
   ]
  },
  {
   "cell_type": "code",
   "execution_count": null,
   "metadata": {},
   "outputs": [],
   "source": []
  }
 ],
 "metadata": {
  "kernelspec": {
   "display_name": "Python [conda env:spin]",
   "language": "python",
   "name": "conda-env-spin-py"
  },
  "language_info": {
   "codemirror_mode": {
    "name": "ipython",
    "version": 3
   },
   "file_extension": ".py",
   "mimetype": "text/x-python",
   "name": "python",
   "nbconvert_exporter": "python",
   "pygments_lexer": "ipython3",
   "version": "3.8.3"
  },
  "varInspector": {
   "cols": {
    "lenName": 16,
    "lenType": 16,
    "lenVar": 40
   },
   "kernels_config": {
    "python": {
     "delete_cmd_postfix": "",
     "delete_cmd_prefix": "del ",
     "library": "var_list.py",
     "varRefreshCmd": "print(var_dic_list())"
    },
    "r": {
     "delete_cmd_postfix": ") ",
     "delete_cmd_prefix": "rm(",
     "library": "var_list.r",
     "varRefreshCmd": "cat(var_dic_list()) "
    }
   },
   "types_to_exclude": [
    "module",
    "function",
    "builtin_function_or_method",
    "instance",
    "_Feature"
   ],
   "window_display": false
  }
 },
 "nbformat": 4,
 "nbformat_minor": 2
}
