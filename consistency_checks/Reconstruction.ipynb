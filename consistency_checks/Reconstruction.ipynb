{
 "cells": [
  {
   "cell_type": "code",
   "execution_count": 1,
   "metadata": {},
   "outputs": [],
   "source": [
    "import os\n",
    "import numpy as np\n",
    "import matplotlib.pyplot as plt\n",
    "import sys\n",
    "import uproot\n",
    "from collections import defaultdict\n",
    "sys.path.append(\"..\")\n",
    "\n",
    "from plotting import histos\n",
    "from processing import kinematics\n",
    "from ttbar_reconstruction import four_momentum"
   ]
  },
  {
   "cell_type": "markdown",
   "metadata": {},
   "source": [
    "## Reconstructions"
   ]
  },
  {
   "cell_type": "code",
   "execution_count": 2,
   "metadata": {},
   "outputs": [],
   "source": [
    "base_path = \"../reconstructions/SM_spin-ON_100k\"\n",
    "reco_names = [\n",
    "    \"p_top\", \"p_l_t\", \"p_b_t\", \"p_nu_t\",\n",
    "    \"p_tbar\", \"p_l_tbar\", \"p_b_tbar\", \"p_nu_tbar\", \"idx\", \"weight\"\n",
    "]\n",
    "batches = {name: [] for name in reco_names}"
   ]
  },
  {
   "cell_type": "code",
   "execution_count": 3,
   "metadata": {},
   "outputs": [],
   "source": [
    "for batch_idx in range(10):\n",
    "    for name in reco_names:\n",
    "        batches[name].append(np.load(os.path.join(base_path, f\"{name}_batch_{batch_idx}.npy\")))\n",
    "\n",
    "arrays = {name: np.concatenate(batches, axis=0) for name, batches in batches.items()}"
   ]
  },
  {
   "cell_type": "code",
   "execution_count": 4,
   "metadata": {},
   "outputs": [
    {
     "data": {
      "image/png": "[encoded data removed]",
      "text/plain": [
       "<Figure size 1080x576 with 1 Axes>"
      ]
     },
     "metadata": {
      "needs_background": "light"
     },
     "output_type": "display_data"
    }
   ],
   "source": [
    "fix, ax = plt.subplots(figsize=(15, 8))\n",
    "ax = histos.hist_var(arrays[\"weight\"], ax=ax, bins=20)"
   ]
  },
  {
   "cell_type": "markdown",
   "metadata": {},
   "source": [
    "## Events"
   ]
  },
  {
   "cell_type": "code",
   "execution_count": 5,
   "metadata": {},
   "outputs": [],
   "source": [
    "events_path = \"../mg5_data/SM-process_spin-ON_100k/Events/run_01_decayed_1/tag_1_delphes_events.root\"\n",
    "events = uproot.open(events_path)[\"Delphes\"]\n",
    "idx_mask = arrays[\"idx\"].reshape(-1)\n",
    "weights_mask = (arrays[\"weight\"] > 0.99).flatten()"
   ]
  },
  {
   "cell_type": "markdown",
   "metadata": {},
   "source": [
    "### Leptons"
   ]
  },
  {
   "cell_type": "code",
   "execution_count": 6,
   "metadata": {},
   "outputs": [],
   "source": [
    "m_e = 0.000510998902\n",
    "m_mu = 0.10565838\n",
    "\n",
    "e_t_mask = (\n",
    "    (events[\"Particle.PID\"].array() == -11) * (events[\"Particle.Status\"].array() == 1)\n",
    ")\n",
    "mu_t_mask = (\n",
    "    (events[\"Particle.PID\"].array() == -13) * (events[\"Particle.Status\"].array() == 1)\n",
    ")\n",
    "e_tbar_mask = (\n",
    "    (events[\"Particle.PID\"].array() == 11) * (events[\"Particle.Status\"].array() == 1)\n",
    ")\n",
    "mu_tbar_mask = (\n",
    "    (events[\"Particle.PID\"].array() == 13) * (events[\"Particle.Status\"].array() == 1)\n",
    ")"
   ]
  },
  {
   "cell_type": "code",
   "execution_count": 7,
   "metadata": {},
   "outputs": [],
   "source": [
    "def get_leptons_pre(events, e_mask, mu_mask):\n",
    "    coords = [\"PT\", \"Eta\", \"Phi\"]\n",
    "    e_kinematics = {\n",
    "        coord: events[f\"Particle.{coord}\"].array()[e_mask][idx_mask][weights_mask]\n",
    "        for coord in coords\n",
    "    }\n",
    "    mu_kinematics = {\n",
    "        coord: events[f\"Particle.{coord}\"].array()[mu_mask][idx_mask][weights_mask]\n",
    "        for coord in coords\n",
    "    }\n",
    "\n",
    "    l_pre = []\n",
    "    for event_idx in range(len(e_kinematics[\"PT\"])):\n",
    "        e_pt_mask = e_kinematics[\"PT\"][event_idx] > 25\n",
    "        e_criteria_mask = e_pt_mask\n",
    "\n",
    "        mu_pt_mask = mu_kinematics[\"PT\"][event_idx] > 25\n",
    "        mu_criteria_mask = mu_pt_mask\n",
    "        e_p = four_momentum(\n",
    "            pt=e_kinematics[\"PT\"][event_idx][e_criteria_mask].reshape(-1, 1),\n",
    "            eta=e_kinematics[\"Eta\"][event_idx][e_criteria_mask].reshape(-1, 1),\n",
    "            phi=e_kinematics[\"Phi\"][event_idx][e_criteria_mask].reshape(-1, 1),\n",
    "            mass=m_e\n",
    "        )\n",
    "        mu_p = four_momentum(\n",
    "            pt=mu_kinematics[\"PT\"][event_idx][mu_criteria_mask].reshape(-1, 1),\n",
    "            eta=mu_kinematics[\"Eta\"][event_idx][mu_criteria_mask].reshape(-1, 1),\n",
    "            phi=mu_kinematics[\"Phi\"][event_idx][mu_criteria_mask].reshape(-1, 1),\n",
    "            mass=m_mu\n",
    "        )\n",
    "        l_pre.append(np.concatenate([e_p, mu_p], axis=0))\n",
    "    return l_pre"
   ]
  },
  {
   "cell_type": "code",
   "execution_count": 8,
   "metadata": {},
   "outputs": [],
   "source": [
    "l_t_pre = get_leptons_pre(events=events, mu_mask=mu_t_mask, e_mask=e_t_mask)\n",
    "l_tbar_pre = get_leptons_pre(events=events, mu_mask=mu_tbar_mask, e_mask=e_tbar_mask)"
   ]
  },
  {
   "cell_type": "markdown",
   "metadata": {},
   "source": [
    "### b-jets"
   ]
  },
  {
   "cell_type": "code",
   "execution_count": 9,
   "metadata": {},
   "outputs": [],
   "source": [
    "b_t_mask = (\n",
    "    (events[\"Particle.PID\"].array() == 5) * (events[\"Particle.Status\"].array() == 23)\n",
    ")\n",
    "\n",
    "b_tbar_mask = (\n",
    "    (events[\"Particle.PID\"].array() == -5) * (events[\"Particle.Status\"].array() == 23)\n",
    ")"
   ]
  },
  {
   "cell_type": "code",
   "execution_count": 10,
   "metadata": {},
   "outputs": [],
   "source": [
    "def get_bjets_pre(events, b_mask):\n",
    "    coords = [\"PT\", \"Eta\", \"Phi\", \"Mass\"]\n",
    "    b_kinematics = {\n",
    "        coord: events[f\"Particle.{coord}\"].array()[b_mask][idx_mask][weights_mask]\n",
    "        for coord in coords\n",
    "    }\n",
    "\n",
    "    b_pre = []\n",
    "    for event_idx in range(len(b_kinematics[\"PT\"])):\n",
    "        b_pt_mask = b_kinematics[\"PT\"][event_idx] > 25\n",
    "        b_criteria_mask = b_pt_mask\n",
    "\n",
    "        p_b = four_momentum(\n",
    "            pt=b_kinematics[\"PT\"][event_idx][b_criteria_mask].reshape(-1, 1),\n",
    "            eta=b_kinematics[\"Eta\"][event_idx][b_criteria_mask].reshape(-1, 1),\n",
    "            phi=b_kinematics[\"Phi\"][event_idx][b_criteria_mask].reshape(-1, 1),\n",
    "            mass=b_kinematics[\"Mass\"][event_idx][b_criteria_mask].reshape(-1, 1)\n",
    "        )\n",
    "        b_pre.append(p_b)\n",
    "    return b_pre"
   ]
  },
  {
   "cell_type": "code",
   "execution_count": 11,
   "metadata": {},
   "outputs": [],
   "source": [
    "b_t_pre = get_bjets_pre(events=events, b_mask=b_t_mask)\n",
    "b_tbar_pre = get_bjets_pre(events=events, b_mask=b_tbar_mask)"
   ]
  },
  {
   "cell_type": "markdown",
   "metadata": {},
   "source": [
    "### Neutrinos"
   ]
  },
  {
   "cell_type": "code",
   "execution_count": 12,
   "metadata": {},
   "outputs": [],
   "source": [
    "def neutrino_four_momentum(px: float, py: float, eta: float) -> np.ndarray:\n",
    "    \"\"\"Generate neutrino's four momentum.\n",
    "\n",
    "    :param px: momentum's x component.\n",
    "    :type px: float\n",
    "    :param py: momentum's y component.\n",
    "    :type py: float\n",
    "    :param eta: Pseudorapidity.\n",
    "    :type eta: float\n",
    "    :return: Four momentum in (x, y, z, E) coordinates.\n",
    "    :rtype: np.ndarray\n",
    "    \"\"\"\n",
    "    pt = np.sqrt(px**2 + py**2)\n",
    "    pz = pt * np.sinh(eta)\n",
    "    E = pt * np.cosh(eta)\n",
    "    return np.concatenate([px, py, pz, E], axis=1)"
   ]
  },
  {
   "cell_type": "code",
   "execution_count": 13,
   "metadata": {},
   "outputs": [],
   "source": [
    "nu_e_t_mask = (\n",
    "    (events[\"Particle.PID\"].array() == 12) * (events[\"Particle.Status\"].array() == 1)\n",
    ")\n",
    "nu_mu_t_mask = (\n",
    "    (events[\"Particle.PID\"].array() == 14) * (events[\"Particle.Status\"].array() == 1)\n",
    ")\n",
    "nu_e_tbar_mask = (\n",
    "    (events[\"Particle.PID\"].array() == -12) * (events[\"Particle.Status\"].array() == 1)\n",
    ")\n",
    "nu_mu_tbar_mask = (\n",
    "    (events[\"Particle.PID\"].array() == -14) * (events[\"Particle.Status\"].array() == 1)\n",
    ")"
   ]
  },
  {
   "cell_type": "code",
   "execution_count": 14,
   "metadata": {},
   "outputs": [],
   "source": [
    "def get_neutrinos_pre(events, nu_e_mask, nu_mu_mask):\n",
    "    coords = [\"Px\", \"Py\", \"Eta\"]\n",
    "    nu_e_kinematics = {\n",
    "        coord: events[f\"Particle.{coord}\"].array()[nu_e_mask][idx_mask][weights_mask]\n",
    "        for coord in coords\n",
    "    }\n",
    "    nu_mu_kinematics = {\n",
    "        coord: events[f\"Particle.{coord}\"].array()[nu_mu_mask][idx_mask][weights_mask]\n",
    "        for coord in coords\n",
    "    }\n",
    "\n",
    "    nu_pre = []\n",
    "    for event_idx in range(len(nu_e_kinematics[\"Px\"])):\n",
    "        nu_e_p = neutrino_four_momentum(\n",
    "            px=nu_e_kinematics[\"Px\"][event_idx].reshape(-1, 1),\n",
    "            py=nu_e_kinematics[\"Py\"][event_idx].reshape(-1, 1),\n",
    "            eta=nu_e_kinematics[\"Eta\"][event_idx].reshape(-1, 1)\n",
    "        )\n",
    "        nu_mu_p = neutrino_four_momentum(\n",
    "            px=nu_mu_kinematics[\"Px\"][event_idx].reshape(-1, 1),\n",
    "            py=nu_mu_kinematics[\"Py\"][event_idx].reshape(-1, 1),\n",
    "            eta=nu_mu_kinematics[\"Eta\"][event_idx].reshape(-1, 1)\n",
    "        )\n",
    "        nu_pre.append(np.concatenate([nu_e_p, nu_mu_p], axis=0))\n",
    "    return nu_pre"
   ]
  },
  {
   "cell_type": "code",
   "execution_count": 15,
   "metadata": {},
   "outputs": [],
   "source": [
    "nu_t_pre = get_neutrinos_pre(events=events, nu_mu_mask=nu_mu_t_mask, nu_e_mask=nu_e_t_mask)\n",
    "nu_tbar_pre = get_neutrinos_pre(events=events, nu_mu_mask=nu_mu_tbar_mask, nu_e_mask=nu_e_tbar_mask)"
   ]
  },
  {
   "cell_type": "markdown",
   "metadata": {},
   "source": [
    "### Top Quarks"
   ]
  },
  {
   "cell_type": "code",
   "execution_count": 16,
   "metadata": {},
   "outputs": [],
   "source": [
    "top_mask = (events[\"Particle.PID\"].array() == 6) + (events[\"Particle.Status\"].array() == 22)\n",
    "tbar_mask = (events[\"Particle.PID\"].array() == -6) + (events[\"Particle.Status\"].array() == 22)"
   ]
  },
  {
   "cell_type": "code",
   "execution_count": 17,
   "metadata": {},
   "outputs": [],
   "source": [
    "def get_top_pre(events, t_mask):\n",
    "    coords = [\"PT\", \"Eta\", \"Phi\", \"Mass\"]\n",
    "    t_kinematics = {\n",
    "        coord: events[f\"Particle.{coord}\"].array()[t_mask][idx_mask][weights_mask]\n",
    "        for coord in coords\n",
    "    }\n",
    "\n",
    "    t_pre = []\n",
    "    for event_idx in range(len(t_kinematics[\"PT\"])):\n",
    "\n",
    "        p = four_momentum(\n",
    "            pt=t_kinematics[\"PT\"][event_idx].reshape(-1, 1),\n",
    "            eta=t_kinematics[\"Eta\"][event_idx].reshape(-1, 1),\n",
    "            phi=t_kinematics[\"Phi\"][event_idx].reshape(-1, 1),\n",
    "            mass=t_kinematics[\"Mass\"][event_idx].reshape(-1, 1)\n",
    "        )\n",
    "        t_pre.append(p)\n",
    "    return t_pre"
   ]
  },
  {
   "cell_type": "code",
   "execution_count": 18,
   "metadata": {},
   "outputs": [],
   "source": [
    "t_pre = get_top_pre(events=events, t_mask=top_mask)\n",
    "tbar_pre = get_top_pre(events=events, t_mask=tbar_mask)"
   ]
  },
  {
   "cell_type": "markdown",
   "metadata": {},
   "source": [
    "## Reco vs. Original"
   ]
  },
  {
   "cell_type": "markdown",
   "metadata": {},
   "source": [
    "### Leptons"
   ]
  },
  {
   "cell_type": "code",
   "execution_count": 19,
   "metadata": {},
   "outputs": [],
   "source": [
    "dRs_l_t = list()\n",
    "for idx in range(len(l_t_pre)):\n",
    "    cand_dR = 1e10\n",
    "    for jdx in range(len(l_t_pre[idx])):\n",
    "        dR = kinematics.dR(l_t_pre[idx][jdx: jdx + 1], arrays[\"p_l_t\"][weights_mask][idx: idx + 1])\n",
    "        if dR < cand_dR:\n",
    "            cand_dR = float(dR)\n",
    "    if cand_dR != 1e10:\n",
    "        dRs_l_t.append(cand_dR)\n",
    "    \n",
    "dRs_l_tbar = list()\n",
    "for idx in range(len(l_tbar_pre)):\n",
    "    cand_dR = 1e10\n",
    "    for jdx in range(len(l_tbar_pre[idx])):\n",
    "        dR = kinematics.dR(l_tbar_pre[idx][jdx: jdx + 1], arrays[\"p_l_tbar\"][weights_mask][idx: idx + 1])\n",
    "        if dR < cand_dR:\n",
    "            cand_dR = float(dR)\n",
    "    if cand_dR != 1e10:\n",
    "        dRs_l_tbar.append(cand_dR)"
   ]
  },
  {
   "cell_type": "code",
   "execution_count": 20,
   "metadata": {},
   "outputs": [
    {
     "data": {
      "text/plain": [
       "Text(0.5, 1.0, '$\\\\Delta R(l^{+}_{reco}, l^{+}_{original})$')"
      ]
     },
     "execution_count": 20,
     "metadata": {},
     "output_type": "execute_result"
    },
    {
     "data": {
      "image/png": "[encoded data removed]",
      "text/plain": [
       "<Figure size 1080x576 with 1 Axes>"
      ]
     },
     "metadata": {
      "needs_background": "light"
     },
     "output_type": "display_data"
    }
   ],
   "source": [
    "fig, ax = plt.subplots(figsize=(15, 8))\n",
    "ax = histos.hist_var(dRs_l_t, ax=ax)\n",
    "ax.set_title(r\"$\\Delta R(l^{+}_{reco}, l^{+}_{original})$\")"
   ]
  },
  {
   "cell_type": "code",
   "execution_count": 21,
   "metadata": {},
   "outputs": [
    {
     "data": {
      "text/plain": [
       "Text(0.5, 1.0, '$\\\\Delta R(l^{-}_{reco}, l^{-}_{original})$')"
      ]
     },
     "execution_count": 21,
     "metadata": {},
     "output_type": "execute_result"
    },
    {
     "data": {
      "image/png": "[encoded data removed]",
      "text/plain": [
       "<Figure size 1080x576 with 1 Axes>"
      ]
     },
     "metadata": {
      "needs_background": "light"
     },
     "output_type": "display_data"
    }
   ],
   "source": [
    "fig, ax = plt.subplots(figsize=(15, 8))\n",
    "ax = histos.hist_var(dRs_l_tbar, ax=ax)\n",
    "ax.set_title(r\"$\\Delta R(l^{-}_{reco}, l^{-}_{original})$\")"
   ]
  },
  {
   "cell_type": "markdown",
   "metadata": {},
   "source": [
    "### b-jets"
   ]
  },
  {
   "cell_type": "code",
   "execution_count": 22,
   "metadata": {},
   "outputs": [],
   "source": [
    "dRs_b_t = list()\n",
    "for idx in range(len(b_t_pre)):\n",
    "    cand_dR = 1e10\n",
    "    for jdx in range(len(b_t_pre[idx])):\n",
    "        dR = kinematics.dR(b_t_pre[idx][jdx: jdx + 1], arrays[\"p_b_t\"][weights_mask][idx: idx + 1])\n",
    "        if dR < cand_dR:\n",
    "            cand_dR = float(dR)\n",
    "    if cand_dR != 1e10:\n",
    "        dRs_b_t.append(cand_dR)\n",
    "    \n",
    "dRs_b_tbar = list()\n",
    "for idx in range(len(b_tbar_pre)):\n",
    "    cand_dR = 1e10\n",
    "    for jdx in range(len(b_tbar_pre[idx])):\n",
    "        dR = kinematics.dR(b_tbar_pre[idx][jdx: jdx + 1], arrays[\"p_b_tbar\"][weights_mask][idx: idx + 1])\n",
    "        if dR < cand_dR:\n",
    "            cand_dR = float(dR)\n",
    "    if cand_dR != 1e10:\n",
    "        dRs_b_tbar.append(cand_dR)"
   ]
  },
  {
   "cell_type": "code",
   "execution_count": 23,
   "metadata": {},
   "outputs": [
    {
     "data": {
      "text/plain": [
       "Text(0.5, 1.0, '$\\\\Delta R(b_{reco}, b_{original})$')"
      ]
     },
     "execution_count": 23,
     "metadata": {},
     "output_type": "execute_result"
    },
    {
     "data": {
      "image/png": "[encoded data removed]",
      "text/plain": [
       "<Figure size 1080x576 with 1 Axes>"
      ]
     },
     "metadata": {
      "needs_background": "light"
     },
     "output_type": "display_data"
    }
   ],
   "source": [
    "fig, ax = plt.subplots(figsize=(15, 8))\n",
    "ax = histos.hist_var(dRs_b_t, ax=ax)\n",
    "ax.set_title(r\"$\\Delta R(b_{reco}, b_{original})$\")"
   ]
  },
  {
   "cell_type": "code",
   "execution_count": 24,
   "metadata": {
    "scrolled": false
   },
   "outputs": [
    {
     "data": {
      "text/plain": [
       "Text(0.5, 1.0, '$\\\\Delta R(\\\\bar{b}_{reco}, \\\\bar{b}_{original})$')"
      ]
     },
     "execution_count": 24,
     "metadata": {},
     "output_type": "execute_result"
    },
    {
     "data": {
      "image/png": "[encoded data removed]",
      "text/plain": [
       "<Figure size 1080x576 with 1 Axes>"
      ]
     },
     "metadata": {
      "needs_background": "light"
     },
     "output_type": "display_data"
    }
   ],
   "source": [
    "fig, ax = plt.subplots(figsize=(15, 8))\n",
    "ax = histos.hist_var(dRs_b_tbar, ax=ax)\n",
    "ax.set_title(r\"$\\Delta R(\\bar{b}_{reco}, \\bar{b}_{original})$\")"
   ]
  },
  {
   "cell_type": "markdown",
   "metadata": {},
   "source": [
    "### Neutrinos"
   ]
  },
  {
   "cell_type": "code",
   "execution_count": 25,
   "metadata": {},
   "outputs": [],
   "source": [
    "dRs_nu_t = list()\n",
    "for idx in range(len(nu_t_pre)):\n",
    "    cand_dR = 1e10\n",
    "    for jdx in range(len(nu_t_pre[idx])):\n",
    "        dR = kinematics.dR(nu_t_pre[idx][jdx: jdx + 1], arrays[\"p_nu_t\"][weights_mask][idx: idx + 1])\n",
    "        if dR < cand_dR:\n",
    "            cand_dR = float(dR)\n",
    "    if cand_dR != 1e10:\n",
    "        dRs_nu_t.append(cand_dR)\n",
    "    \n",
    "dRs_nu_tbar = list()\n",
    "for idx in range(len(nu_tbar_pre)):\n",
    "    cand_dR = 1e10\n",
    "    for jdx in range(len(nu_tbar_pre[idx])):\n",
    "        dR = kinematics.dR(nu_tbar_pre[idx][jdx: jdx + 1], arrays[\"p_nu_tbar\"][weights_mask][idx: idx + 1])\n",
    "        if dR < cand_dR:\n",
    "            cand_dR = float(dR)\n",
    "    if cand_dR != 1e10:\n",
    "        dRs_nu_tbar.append(cand_dR)"
   ]
  },
  {
   "cell_type": "code",
   "execution_count": 26,
   "metadata": {
    "scrolled": false
   },
   "outputs": [
    {
     "data": {
      "text/plain": [
       "Text(0.5, 1.0, '$\\\\Delta R(\\\\nu_{reco}, \\\\nu_{original})$')"
      ]
     },
     "execution_count": 26,
     "metadata": {},
     "output_type": "execute_result"
    },
    {
     "data": {
      "image/png": "[encoded data removed]",
      "text/plain": [
       "<Figure size 1080x576 with 1 Axes>"
      ]
     },
     "metadata": {
      "needs_background": "light"
     },
     "output_type": "display_data"
    }
   ],
   "source": [
    "fig, ax = plt.subplots(figsize=(15, 8))\n",
    "ax = histos.hist_var(dRs_nu_t, ax=ax, bins=10)\n",
    "ax.set_title(r\"$\\Delta R(\\nu_{reco}, \\nu_{original})$\")"
   ]
  },
  {
   "cell_type": "code",
   "execution_count": 27,
   "metadata": {},
   "outputs": [
    {
     "data": {
      "text/plain": [
       "Text(0.5, 1.0, '$\\\\Delta R(\\\\bar{\\\\nu}_{reco}, \\\\bar{\\\\nu}_{original})$')"
      ]
     },
     "execution_count": 27,
     "metadata": {},
     "output_type": "execute_result"
    },
    {
     "data": {
      "image/png": "[encoded data removed]",
      "text/plain": [
       "<Figure size 1080x576 with 1 Axes>"
      ]
     },
     "metadata": {
      "needs_background": "light"
     },
     "output_type": "display_data"
    }
   ],
   "source": [
    "fig, ax = plt.subplots(figsize=(15, 8))\n",
    "ax = histos.hist_var(dRs_nu_tbar, ax=ax, bins=10)\n",
    "ax.set_title(r\"$\\Delta R(\\bar{\\nu}_{reco}, \\bar{\\nu}_{original})$\")"
   ]
  },
  {
   "cell_type": "markdown",
   "metadata": {},
   "source": [
    "### Top Quarks"
   ]
  },
  {
   "cell_type": "code",
   "execution_count": 28,
   "metadata": {},
   "outputs": [],
   "source": [
    "dRs_t = list()\n",
    "for idx in range(len(t_pre)):\n",
    "    cand_dR = 1e10\n",
    "    for jdx in range(len(t_pre[idx])):\n",
    "        dR = kinematics.dR(t_pre[idx][jdx: jdx + 1], arrays[\"p_top\"][weights_mask][idx: idx + 1])\n",
    "        if dR < cand_dR:\n",
    "            cand_dR = float(dR)\n",
    "    if cand_dR != 1e10:\n",
    "        dRs_t.append(cand_dR)\n",
    "    \n",
    "dRs_tbar = list()\n",
    "for idx in range(len(tbar_pre)):\n",
    "    cand_dR = 1e10\n",
    "    for jdx in range(len(tbar_pre[idx])):\n",
    "        dR = kinematics.dR(tbar_pre[idx][jdx: jdx + 1], arrays[\"p_tbar\"][weights_mask][idx: idx + 1])\n",
    "        if dR < cand_dR:\n",
    "            cand_dR = float(dR)\n",
    "    if cand_dR != 1e10:\n",
    "        dRs_tbar.append(cand_dR)"
   ]
  },
  {
   "cell_type": "code",
   "execution_count": 29,
   "metadata": {},
   "outputs": [
    {
     "data": {
      "text/plain": [
       "Text(0.5, 1.0, '$\\\\Delta R(t_{reco}, t_{original})$')"
      ]
     },
     "execution_count": 29,
     "metadata": {},
     "output_type": "execute_result"
    },
    {
     "data": {
      "image/png": "[encoded data removed]",
      "text/plain": [
       "<Figure size 1080x576 with 1 Axes>"
      ]
     },
     "metadata": {
      "needs_background": "light"
     },
     "output_type": "display_data"
    }
   ],
   "source": [
    "fig, ax = plt.subplots(figsize=(15, 8))\n",
    "ax = histos.hist_var(dRs_t, ax=ax, bins=10)\n",
    "ax.set_title(r\"$\\Delta R(t_{reco}, t_{original})$\")"
   ]
  },
  {
   "cell_type": "code",
   "execution_count": 30,
   "metadata": {},
   "outputs": [
    {
     "data": {
      "text/plain": [
       "Text(0.5, 1.0, '$\\\\Delta R(\\\\bar{t}_{reco}, \\\\bar{t}_{original})$')"
      ]
     },
     "execution_count": 30,
     "metadata": {},
     "output_type": "execute_result"
    },
    {
     "data": {
      "image/png": "[encoded data removed]",
      "text/plain": [
       "<Figure size 1080x576 with 1 Axes>"
      ]
     },
     "metadata": {
      "needs_background": "light"
     },
     "output_type": "display_data"
    }
   ],
   "source": [
    "fig, ax = plt.subplots(figsize=(15, 8))\n",
    "ax = histos.hist_var(dRs_tbar, ax=ax, bins=10)\n",
    "ax.set_title(r\"$\\Delta R(\\bar{t}_{reco}, \\bar{t}_{original})$\")"
   ]
  },
  {
   "cell_type": "markdown",
   "metadata": {},
   "source": [
    "## Check $t\\bar{t}$ Reconstruction Quality\n",
    "\n",
    "Check how many reconstructed top quarks have $\\Delta R < 0.4$ with the original quark."
   ]
  },
  {
   "cell_type": "markdown",
   "metadata": {},
   "source": [
    "### $t$ quark"
   ]
  },
  {
   "cell_type": "code",
   "execution_count": 46,
   "metadata": {},
   "outputs": [
    {
     "name": "stdout",
     "output_type": "stream",
     "text": [
      "% of good recos:  27.77%\n"
     ]
    }
   ],
   "source": [
    "good_t = (np.array(dRs_t) < 0.4)\n",
    "pct_good_t = good_t.sum() / len(dRs_t)\n",
    "print(f\"% of good recos: {pct_good_t * 100: .2f}%\")"
   ]
  },
  {
   "cell_type": "markdown",
   "metadata": {},
   "source": [
    "### $\\bar{t}$ quark"
   ]
  },
  {
   "cell_type": "code",
   "execution_count": 48,
   "metadata": {},
   "outputs": [
    {
     "name": "stdout",
     "output_type": "stream",
     "text": [
      "% of good recos:  28.10%\n"
     ]
    }
   ],
   "source": [
    "good_tbar = (np.array(dRs_tbar) < 0.4)\n",
    "pct_good_tbar = good_tbar.sum() / len(dRs_tbar)\n",
    "print(f\"% of good recos: {pct_good_tbar * 100: .2f}%\")"
   ]
  },
  {
   "cell_type": "markdown",
   "metadata": {},
   "source": [
    "### $t\\bar{t}$ system"
   ]
  },
  {
   "cell_type": "code",
   "execution_count": 49,
   "metadata": {},
   "outputs": [
    {
     "name": "stdout",
     "output_type": "stream",
     "text": [
      "% of good recos:  13.62%\n"
     ]
    }
   ],
   "source": [
    "pct_good_ttbar = (good_t * good_tbar).sum() / len(good_tbar)\n",
    "print(f\"% of good recos: {pct_good_ttbar * 100: .2f}%\")"
   ]
  },
  {
   "cell_type": "code",
   "execution_count": null,
   "metadata": {},
   "outputs": [],
   "source": []
  }
 ],
 "metadata": {
  "kernelspec": {
   "display_name": "Python [conda env:spin]",
   "language": "python",
   "name": "conda-env-spin-py"
  },
  "language_info": {
   "codemirror_mode": {
    "name": "ipython",
    "version": 3
   },
   "file_extension": ".py",
   "mimetype": "text/x-python",
   "name": "python",
   "nbconvert_exporter": "python",
   "pygments_lexer": "ipython3",
   "version": "3.8.3"
  },
  "varInspector": {
   "cols": {
    "lenName": 16,
    "lenType": 16,
    "lenVar": 40
   },
   "kernels_config": {
    "python": {
     "delete_cmd_postfix": "",
     "delete_cmd_prefix": "del ",
     "library": "var_list.py",
     "varRefreshCmd": "print(var_dic_list())"
    },
    "r": {
     "delete_cmd_postfix": ") ",
     "delete_cmd_prefix": "rm(",
     "library": "var_list.r",
     "varRefreshCmd": "cat(var_dic_list()) "
    }
   },
   "types_to_exclude": [
    "module",
    "function",
    "builtin_function_or_method",
    "instance",
    "_Feature"
   ],
   "window_display": false
  }
 },
 "nbformat": 4,
 "nbformat_minor": 2
}
